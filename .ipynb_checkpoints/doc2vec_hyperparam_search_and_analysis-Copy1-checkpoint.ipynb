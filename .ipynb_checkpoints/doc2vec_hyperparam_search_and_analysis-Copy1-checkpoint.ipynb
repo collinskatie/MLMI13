{
 "cells": [
  {
   "cell_type": "code",
   "execution_count": 1,
   "id": "8a4ab179",
   "metadata": {},
   "outputs": [
    {
     "name": "stdout",
     "output_type": "stream",
     "text": [
      "num train: 25000, num test: 25000\n",
      "tot num reviews: 50000\n",
      "num train: 1800, num test: 200\n",
      "tot num reviews: 2000\n"
     ]
    }
   ],
   "source": [
    "'''\n",
    "Run a hyperparameter search over the doc2vec model! \n",
    "'''\n",
    "\n",
    "from Corpora import MovieReviewCorpus\n",
    "from Lexicon import SentimentLexicon\n",
    "from Statistics import SignTest\n",
    "from Classifiers import NaiveBayesText, SVMText\n",
    "from Extensions import SVMDoc2Vec, DocFeaturizer\n",
    "\n",
    "\n",
    "from sklearn.manifold import TSNE\n",
    "import matplotlib.pyplot as plt\n",
    "from gensim.models.doc2vec import Doc2Vec\n",
    "from sklearn.decomposition import PCA\n",
    "import seaborn as sns\n",
    "\n",
    "ax_size = 16\n",
    "title_size=18\n",
    "\n",
    "save_dir = \"doc2vec_models/\"\n",
    "import os\n",
    "if not os.path.exists(save_dir):\n",
    "    os.makedirs(save_dir)\n",
    "    \n",
    "good = [\"good\", \"great\",\"amazing\",\"best\"]\n",
    "bad = [\"avoid\",\"boring\",\"terrible\",\"bad\"]\n",
    "extreme = [\"incredibly\", \"particularly\", \"very\"] # e.g., extreme words, or neutral\n",
    "neutral = [\"the\", \"a\", \"but\"]\n",
    "\n",
    "# model_pth= f\"{save_dir}sample_model.pkl\"\n",
    "# DF.model.save(model_pth)\n",
    "\n",
    "corpus=MovieReviewCorpus(stemming=False,pos=False,use_imdb=True)\n",
    "mini_corpus=MovieReviewCorpus(stemming=False,pos=False,use_imdb=False)"
   ]
  },
  {
   "cell_type": "code",
   "execution_count": 2,
   "id": "13860b5f",
   "metadata": {},
   "outputs": [],
   "source": [
    "feature_dim = 200\n",
    "window = 3\n",
    "epochs = 100\n",
    "DF = DocFeaturizer(feature_dim, window, dm=0, dbow_words=1, dm_concat=0, min_count=5)\n",
    "DF.train_model(corpus.unsup_train, epochs)\n",
    "DF.model.save(f\"{save_dir}full_model.pkl\")\n",
    "\n",
    "SVMDV=SVMDoc2Vec(model=DF,bigrams=False,trigrams=False,discard_closed_class=False,\n",
    "                inf_epochs=20)\n",
    "SVMDV.crossValidate(mini_corpus)\n",
    "\n",
    "model = Doc2Vec.load(f\"{save_dir}sample_model.pkl\")\n",
    "wv = model.wv\n",
    "dv= model.dv\n",
    "vocab = list(model.wv.index_to_key)\n",
    "X = wv[vocab]"
   ]
  },
  {
   "cell_type": "code",
   "execution_count": null,
   "id": "8d9ef013",
   "metadata": {},
   "outputs": [
    {
     "name": "stdout",
     "output_type": "stream",
     "text": [
      "kernel:  rbf\n",
      "kernel:  rbf\n"
     ]
    },
    {
     "name": "stderr",
     "output_type": "stream",
     "text": [
      "/Users/kcollins/MLMI13/Analysis.py:31: VisibleDeprecationWarning: Creating an ndarray from ragged nested sequences (which is a list-or-tuple of lists-or-tuples-or ndarrays with different lengths or shapes) is deprecated. If you meant to do this, you must specify 'dtype=object' when creating the ndarray.\n",
      "  train_files = np.array([np.array(corpus.folds[fold_j]) for fold_j in range(num_folds) if fold_j != fold_i])\n",
      "/Users/kcollins/MLMI13/Analysis.py:31: VisibleDeprecationWarning: Creating an ndarray from ragged nested sequences (which is a list-or-tuple of lists-or-tuples-or ndarrays with different lengths or shapes) is deprecated. If you meant to do this, you must specify 'dtype=object' when creating the ndarray.\n",
      "  train_files = np.array([np.array(corpus.folds[fold_j]) for fold_j in range(num_folds) if fold_j != fold_i])\n",
      "/Users/kcollins/MLMI13/Analysis.py:31: VisibleDeprecationWarning: Creating an ndarray from ragged nested sequences (which is a list-or-tuple of lists-or-tuples-or ndarrays with different lengths or shapes) is deprecated. If you meant to do this, you must specify 'dtype=object' when creating the ndarray.\n",
      "  train_files = np.array([np.array(corpus.folds[fold_j]) for fold_j in range(num_folds) if fold_j != fold_i])\n"
     ]
    }
   ],
   "source": [
    "DF.model = model\n",
    "SVMDV=SVMDoc2Vec(model=DF,bigrams=False,trigrams=False,discard_closed_class=False,\n",
    "                 kernel=\"linear\", C=1.5\n",
    "                )\n",
    "\n",
    "SVMDV.crossValidate(corpus)\n",
    "svm_doc2vec_preds=SVMDV.predictions\n",
    "print(f\"Accuracy: {SVMDV.getAccuracy():.3f}\") \n",
    "print(f\"Std. Dev: {SVMDV.getStdDeviation():.2f}\")"
   ]
  },
  {
   "cell_type": "code",
   "execution_count": 25,
   "id": "362b756e",
   "metadata": {},
   "outputs": [
    {
     "name": "stdout",
     "output_type": "stream",
     "text": [
      "Collecting testfixtures\n",
      "  Downloading testfixtures-6.18.3-py2.py3-none-any.whl (95 kB)\n",
      "\u001b[K     |████████████████████████████████| 95 kB 4.0 MB/s eta 0:00:01\n",
      "\u001b[?25hInstalling collected packages: testfixtures\n",
      "Successfully installed testfixtures-6.18.3\n"
     ]
    }
   ],
   "source": [
    "!pip3 install testfixtures\n"
   ]
  },
  {
   "cell_type": "code",
   "execution_count": 26,
   "id": "49981bd2",
   "metadata": {},
   "outputs": [],
   "source": [
    "# help from: https://github.com/RaRe-Technologies/gensim/blob/3c3506d51a2caf6b890de3b1b32a8b85f7566ca5/docs/notebooks/doc2vec-IMDB.ipynb\n",
    "# cite original paper showing combined = better\n",
    "from gensim.test.test_doc2vec import ConcatenatedDoc2Vec\n"
   ]
  },
  {
   "cell_type": "code",
   "execution_count": 22,
   "id": "132a369e",
   "metadata": {},
   "outputs": [
    {
     "ename": "KeyError",
     "evalue": "\"Key '``' not present\"",
     "output_type": "error",
     "traceback": [
      "\u001b[0;31m---------------------------------------------------------------------------\u001b[0m",
      "\u001b[0;31mKeyError\u001b[0m                                  Traceback (most recent call last)",
      "\u001b[0;32m<ipython-input-22-532fb91933a8>\u001b[0m in \u001b[0;36m<module>\u001b[0;34m\u001b[0m\n\u001b[1;32m      8\u001b[0m \u001b[0;34m\u001b[0m\u001b[0m\n\u001b[1;32m      9\u001b[0m \u001b[0;34m\u001b[0m\u001b[0m\n\u001b[0;32m---> 10\u001b[0;31m \u001b[0mdv\u001b[0m\u001b[0;34m.\u001b[0m\u001b[0mmost_similar\u001b[0m\u001b[0;34m(\u001b[0m\u001b[0mreviews\u001b[0m\u001b[0;34m[\u001b[0m\u001b[0;36m100\u001b[0m\u001b[0;34m]\u001b[0m\u001b[0;34m)\u001b[0m\u001b[0;34m\u001b[0m\u001b[0;34m\u001b[0m\u001b[0m\n\u001b[0m",
      "\u001b[0;32m~/opt/anaconda3/lib/python3.8/site-packages/gensim/models/keyedvectors.py\u001b[0m in \u001b[0;36mmost_similar\u001b[0;34m(self, positive, negative, topn, clip_start, clip_end, restrict_vocab, indexer)\u001b[0m\n\u001b[1;32m    771\u001b[0m                 \u001b[0mmean\u001b[0m\u001b[0;34m.\u001b[0m\u001b[0mappend\u001b[0m\u001b[0;34m(\u001b[0m\u001b[0mweight\u001b[0m \u001b[0;34m*\u001b[0m \u001b[0mkey\u001b[0m\u001b[0;34m)\u001b[0m\u001b[0;34m\u001b[0m\u001b[0;34m\u001b[0m\u001b[0m\n\u001b[1;32m    772\u001b[0m             \u001b[0;32melse\u001b[0m\u001b[0;34m:\u001b[0m\u001b[0;34m\u001b[0m\u001b[0;34m\u001b[0m\u001b[0m\n\u001b[0;32m--> 773\u001b[0;31m                 \u001b[0mmean\u001b[0m\u001b[0;34m.\u001b[0m\u001b[0mappend\u001b[0m\u001b[0;34m(\u001b[0m\u001b[0mweight\u001b[0m \u001b[0;34m*\u001b[0m \u001b[0mself\u001b[0m\u001b[0;34m.\u001b[0m\u001b[0mget_vector\u001b[0m\u001b[0;34m(\u001b[0m\u001b[0mkey\u001b[0m\u001b[0;34m,\u001b[0m \u001b[0mnorm\u001b[0m\u001b[0;34m=\u001b[0m\u001b[0;32mTrue\u001b[0m\u001b[0;34m)\u001b[0m\u001b[0;34m)\u001b[0m\u001b[0;34m\u001b[0m\u001b[0;34m\u001b[0m\u001b[0m\n\u001b[0m\u001b[1;32m    774\u001b[0m                 \u001b[0;32mif\u001b[0m \u001b[0mself\u001b[0m\u001b[0;34m.\u001b[0m\u001b[0mhas_index_for\u001b[0m\u001b[0;34m(\u001b[0m\u001b[0mkey\u001b[0m\u001b[0;34m)\u001b[0m\u001b[0;34m:\u001b[0m\u001b[0;34m\u001b[0m\u001b[0;34m\u001b[0m\u001b[0m\n\u001b[1;32m    775\u001b[0m                     \u001b[0mall_keys\u001b[0m\u001b[0;34m.\u001b[0m\u001b[0madd\u001b[0m\u001b[0;34m(\u001b[0m\u001b[0mself\u001b[0m\u001b[0;34m.\u001b[0m\u001b[0mget_index\u001b[0m\u001b[0;34m(\u001b[0m\u001b[0mkey\u001b[0m\u001b[0;34m)\u001b[0m\u001b[0;34m)\u001b[0m\u001b[0;34m\u001b[0m\u001b[0;34m\u001b[0m\u001b[0m\n",
      "\u001b[0;32m~/opt/anaconda3/lib/python3.8/site-packages/gensim/models/keyedvectors.py\u001b[0m in \u001b[0;36mget_vector\u001b[0;34m(self, key, norm)\u001b[0m\n\u001b[1;32m    436\u001b[0m \u001b[0;34m\u001b[0m\u001b[0m\n\u001b[1;32m    437\u001b[0m         \"\"\"\n\u001b[0;32m--> 438\u001b[0;31m         \u001b[0mindex\u001b[0m \u001b[0;34m=\u001b[0m \u001b[0mself\u001b[0m\u001b[0;34m.\u001b[0m\u001b[0mget_index\u001b[0m\u001b[0;34m(\u001b[0m\u001b[0mkey\u001b[0m\u001b[0;34m)\u001b[0m\u001b[0;34m\u001b[0m\u001b[0;34m\u001b[0m\u001b[0m\n\u001b[0m\u001b[1;32m    439\u001b[0m         \u001b[0;32mif\u001b[0m \u001b[0mnorm\u001b[0m\u001b[0;34m:\u001b[0m\u001b[0;34m\u001b[0m\u001b[0;34m\u001b[0m\u001b[0m\n\u001b[1;32m    440\u001b[0m             \u001b[0mself\u001b[0m\u001b[0;34m.\u001b[0m\u001b[0mfill_norms\u001b[0m\u001b[0;34m(\u001b[0m\u001b[0;34m)\u001b[0m\u001b[0;34m\u001b[0m\u001b[0;34m\u001b[0m\u001b[0m\n",
      "\u001b[0;32m~/opt/anaconda3/lib/python3.8/site-packages/gensim/models/keyedvectors.py\u001b[0m in \u001b[0;36mget_index\u001b[0;34m(self, key, default)\u001b[0m\n\u001b[1;32m    410\u001b[0m             \u001b[0;32mreturn\u001b[0m \u001b[0mdefault\u001b[0m\u001b[0;34m\u001b[0m\u001b[0;34m\u001b[0m\u001b[0m\n\u001b[1;32m    411\u001b[0m         \u001b[0;32melse\u001b[0m\u001b[0;34m:\u001b[0m\u001b[0;34m\u001b[0m\u001b[0;34m\u001b[0m\u001b[0m\n\u001b[0;32m--> 412\u001b[0;31m             \u001b[0;32mraise\u001b[0m \u001b[0mKeyError\u001b[0m\u001b[0;34m(\u001b[0m\u001b[0;34mf\"Key '{key}' not present\"\u001b[0m\u001b[0;34m)\u001b[0m\u001b[0;34m\u001b[0m\u001b[0;34m\u001b[0m\u001b[0m\n\u001b[0m\u001b[1;32m    413\u001b[0m \u001b[0;34m\u001b[0m\u001b[0m\n\u001b[1;32m    414\u001b[0m     \u001b[0;32mdef\u001b[0m \u001b[0mget_vector\u001b[0m\u001b[0;34m(\u001b[0m\u001b[0mself\u001b[0m\u001b[0;34m,\u001b[0m \u001b[0mkey\u001b[0m\u001b[0;34m,\u001b[0m \u001b[0mnorm\u001b[0m\u001b[0;34m=\u001b[0m\u001b[0;32mFalse\u001b[0m\u001b[0;34m)\u001b[0m\u001b[0;34m:\u001b[0m\u001b[0;34m\u001b[0m\u001b[0;34m\u001b[0m\u001b[0m\n",
      "\u001b[0;31mKeyError\u001b[0m: \"Key '``' not present\""
     ]
    }
   ],
   "source": [
    "'''\n",
    "analyses to run \n",
    "vector addition (see pg 4 of orig doc2vec paper -- analogies) ex. pv(lady gaga) - wv(american) + wv(japanese) = japanese version of lady gaga\n",
    "\n",
    "'''\n",
    "\n",
    "sorted_docs = sorted([(idx, doc) for idx, (_, doc) in enumerate(mini_corpus.train)], key=lambda x: len(x[1]), reverse=False)\n",
    "idx = 1\n",
    "\n",
    "print(\"Doc length: \", len(sorted_docs[idx][1]))\n",
    "doc_id = sorted_docs[idx][0]\n",
    "doc = ' '.join(sorted_docs[idx][1])\n",
    "print(\"Sample doc: \", doc)\n",
    "\n",
    "dv.most_similar(reviews[100])"
   ]
  },
  {
   "cell_type": "code",
   "execution_count": 28,
   "id": "14fae67d",
   "metadata": {},
   "outputs": [
    {
     "ename": "TypeError",
     "evalue": "don't know how to handle uri ['good']",
     "output_type": "error",
     "traceback": [
      "\u001b[0;31m---------------------------------------------------------------------------\u001b[0m",
      "\u001b[0;31mTypeError\u001b[0m                                 Traceback (most recent call last)",
      "\u001b[0;32m<ipython-input-28-a1aac176664c>\u001b[0m in \u001b[0;36m<module>\u001b[0;34m\u001b[0m\n\u001b[0;32m----> 1\u001b[0;31m \u001b[0mwv\u001b[0m\u001b[0;34m.\u001b[0m\u001b[0mevaluate_word_analogies\u001b[0m\u001b[0;34m(\u001b[0m\u001b[0;34m[\u001b[0m\u001b[0;34m\"good\"\u001b[0m\u001b[0;34m]\u001b[0m\u001b[0;34m)\u001b[0m\u001b[0;34m\u001b[0m\u001b[0;34m\u001b[0m\u001b[0m\n\u001b[0m",
      "\u001b[0;32m~/opt/anaconda3/lib/python3.8/site-packages/gensim/models/keyedvectors.py\u001b[0m in \u001b[0;36mevaluate_word_analogies\u001b[0;34m(self, analogies, restrict_vocab, case_insensitive, dummy4unknown)\u001b[0m\n\u001b[1;32m   1249\u001b[0m         \u001b[0msections\u001b[0m\u001b[0;34m,\u001b[0m \u001b[0msection\u001b[0m \u001b[0;34m=\u001b[0m \u001b[0;34m[\u001b[0m\u001b[0;34m]\u001b[0m\u001b[0;34m,\u001b[0m \u001b[0;32mNone\u001b[0m\u001b[0;34m\u001b[0m\u001b[0;34m\u001b[0m\u001b[0m\n\u001b[1;32m   1250\u001b[0m         \u001b[0mquadruplets_no\u001b[0m \u001b[0;34m=\u001b[0m \u001b[0;36m0\u001b[0m\u001b[0;34m\u001b[0m\u001b[0;34m\u001b[0m\u001b[0m\n\u001b[0;32m-> 1251\u001b[0;31m         \u001b[0;32mwith\u001b[0m \u001b[0mutils\u001b[0m\u001b[0;34m.\u001b[0m\u001b[0mopen\u001b[0m\u001b[0;34m(\u001b[0m\u001b[0manalogies\u001b[0m\u001b[0;34m,\u001b[0m \u001b[0;34m'rb'\u001b[0m\u001b[0;34m)\u001b[0m \u001b[0;32mas\u001b[0m \u001b[0mfin\u001b[0m\u001b[0;34m:\u001b[0m\u001b[0;34m\u001b[0m\u001b[0;34m\u001b[0m\u001b[0m\n\u001b[0m\u001b[1;32m   1252\u001b[0m             \u001b[0;32mfor\u001b[0m \u001b[0mline_no\u001b[0m\u001b[0;34m,\u001b[0m \u001b[0mline\u001b[0m \u001b[0;32min\u001b[0m \u001b[0menumerate\u001b[0m\u001b[0;34m(\u001b[0m\u001b[0mfin\u001b[0m\u001b[0;34m)\u001b[0m\u001b[0;34m:\u001b[0m\u001b[0;34m\u001b[0m\u001b[0;34m\u001b[0m\u001b[0m\n\u001b[1;32m   1253\u001b[0m                 \u001b[0mline\u001b[0m \u001b[0;34m=\u001b[0m \u001b[0mutils\u001b[0m\u001b[0;34m.\u001b[0m\u001b[0mto_unicode\u001b[0m\u001b[0;34m(\u001b[0m\u001b[0mline\u001b[0m\u001b[0;34m)\u001b[0m\u001b[0;34m\u001b[0m\u001b[0;34m\u001b[0m\u001b[0m\n",
      "\u001b[0;32m~/opt/anaconda3/lib/python3.8/site-packages/smart_open/smart_open_lib.py\u001b[0m in \u001b[0;36mopen\u001b[0;34m(uri, mode, buffering, encoding, errors, newline, closefd, opener, ignore_ext, compression, transport_params)\u001b[0m\n\u001b[1;32m    233\u001b[0m         \u001b[0;32mraise\u001b[0m \u001b[0mNotImplementedError\u001b[0m\u001b[0;34m(\u001b[0m\u001b[0mve\u001b[0m\u001b[0;34m.\u001b[0m\u001b[0margs\u001b[0m\u001b[0;34m[\u001b[0m\u001b[0;36m0\u001b[0m\u001b[0;34m]\u001b[0m\u001b[0;34m)\u001b[0m\u001b[0;34m\u001b[0m\u001b[0;34m\u001b[0m\u001b[0m\n\u001b[1;32m    234\u001b[0m \u001b[0;34m\u001b[0m\u001b[0m\n\u001b[0;32m--> 235\u001b[0;31m     \u001b[0mbinary\u001b[0m \u001b[0;34m=\u001b[0m \u001b[0m_open_binary_stream\u001b[0m\u001b[0;34m(\u001b[0m\u001b[0muri\u001b[0m\u001b[0;34m,\u001b[0m \u001b[0mbinary_mode\u001b[0m\u001b[0;34m,\u001b[0m \u001b[0mtransport_params\u001b[0m\u001b[0;34m)\u001b[0m\u001b[0;34m\u001b[0m\u001b[0;34m\u001b[0m\u001b[0m\n\u001b[0m\u001b[1;32m    236\u001b[0m     \u001b[0mdecompressed\u001b[0m \u001b[0;34m=\u001b[0m \u001b[0mso_compression\u001b[0m\u001b[0;34m.\u001b[0m\u001b[0mcompression_wrapper\u001b[0m\u001b[0;34m(\u001b[0m\u001b[0mbinary\u001b[0m\u001b[0;34m,\u001b[0m \u001b[0mbinary_mode\u001b[0m\u001b[0;34m,\u001b[0m \u001b[0mcompression\u001b[0m\u001b[0;34m)\u001b[0m\u001b[0;34m\u001b[0m\u001b[0;34m\u001b[0m\u001b[0m\n\u001b[1;32m    237\u001b[0m \u001b[0;34m\u001b[0m\u001b[0m\n",
      "\u001b[0;32m~/opt/anaconda3/lib/python3.8/site-packages/smart_open/smart_open_lib.py\u001b[0m in \u001b[0;36m_open_binary_stream\u001b[0;34m(uri, mode, transport_params)\u001b[0m\n\u001b[1;32m    392\u001b[0m \u001b[0;34m\u001b[0m\u001b[0m\n\u001b[1;32m    393\u001b[0m     \u001b[0;32mif\u001b[0m \u001b[0;32mnot\u001b[0m \u001b[0misinstance\u001b[0m\u001b[0;34m(\u001b[0m\u001b[0muri\u001b[0m\u001b[0;34m,\u001b[0m \u001b[0mstr\u001b[0m\u001b[0;34m)\u001b[0m\u001b[0;34m:\u001b[0m\u001b[0;34m\u001b[0m\u001b[0;34m\u001b[0m\u001b[0m\n\u001b[0;32m--> 394\u001b[0;31m         \u001b[0;32mraise\u001b[0m \u001b[0mTypeError\u001b[0m\u001b[0;34m(\u001b[0m\u001b[0;34m\"don't know how to handle uri %s\"\u001b[0m \u001b[0;34m%\u001b[0m \u001b[0mrepr\u001b[0m\u001b[0;34m(\u001b[0m\u001b[0muri\u001b[0m\u001b[0;34m)\u001b[0m\u001b[0;34m)\u001b[0m\u001b[0;34m\u001b[0m\u001b[0;34m\u001b[0m\u001b[0m\n\u001b[0m\u001b[1;32m    395\u001b[0m \u001b[0;34m\u001b[0m\u001b[0m\n\u001b[1;32m    396\u001b[0m     \u001b[0mscheme\u001b[0m \u001b[0;34m=\u001b[0m \u001b[0m_sniff_scheme\u001b[0m\u001b[0;34m(\u001b[0m\u001b[0muri\u001b[0m\u001b[0;34m)\u001b[0m\u001b[0;34m\u001b[0m\u001b[0;34m\u001b[0m\u001b[0m\n",
      "\u001b[0;31mTypeError\u001b[0m: don't know how to handle uri ['good']"
     ]
    }
   ],
   "source": [
    "wv.evaluate_word_analogies([\"good\"])"
   ]
  },
  {
   "cell_type": "code",
   "execution_count": 21,
   "id": "968da4ce",
   "metadata": {},
   "outputs": [
    {
     "data": {
      "text/plain": [
       "[\"Though made in Canada , `` Overdrawn at the Memory Bank '' traces its roots to the BBC school of film production . Using , for the most part , cheap computer and video special effects , chyron text , wildlife documentary footage , and sets that are sometimes obviously faked up , it nonetheless manages to tell a good enough science fiction story that by the time you 're twenty minutes into it , you should be hooked . Raul Julia plays Aram Fingal , a drone data processing worker for Novicorp whose active imagination and predilection for hacking gets him into trouble with authority . Caught watching `` Casablanca '' on his desk monitor , Fingal is sentenced to `` doppling '' rehabilitation -- he is to spend forty-eight hours in the body of a baboon . -LRB- How exactly this is supposed to rehabilitate him is anybody 's guess . -RRB- As it happens , thanks to a visiting schoolboy 's prank , his body is temporarily misplaced , and his mind has to be shunted into the central computer to keep him alive until they can find it . As time ticks away before his memory cube self-destructs , the frantic search for his body is on ... while Fingal first creates a virtual reality fantasy world , then finds there 's no better way to hack the system than from the inside . During the chaos , computer technician Apollonia James -LRB- Linda Griffiths -RRB- maintains contact with Fingal through a datalink , manifesting several different times to offer advice or warnings . Over the course of their interactions , interest on both their parts grows into a budding romance . Given that `` Casablanca '' is Fingal 's favorite film , and the basis for his fantasy world , a great deal of the movie is homage to `` Casablanca '' . In fact , the Humphrey Bogart and Peter Lorre characters make appearances -LRB- played by Julia in a dual role and Louis Negin , respectively -RRB- in a bar called `` The Place '' . Julia 's portrayal of Bogart is passable , and avoids becoming the `` schweethaat '' - spouting parody seen in cartoons . Negin 's Peter Lorre is quite credible , and easily the best Peter Lorre I 've ever seen who was n't the real thing . The two of them , as characters created by Fingal 's imagination , serve as aspects of his personality , driving him on in his quest to hack the computer system . Those are n't the only Casablanca characters to put in appearances . The Sydney Greenstreet character also happens to be around ... as `` The Fat Man '' , the alternate aspect of the film 's main villain , the Novicorp Chairman -LRB- Donald C. Moore -RRB- . While Fingal 's body is lost , the Fat Man tries to stop him from hacking the system ... with less than salutory results . It 's interesting to note the futuristic slang words that are thrown about left and right during the film , in the best golden-age science fiction tradition . Words like `` dopple '' , `` psychist '' , `` computech '' , `` cinema '' , and `` reconst '' are apparently in common use . And while people of today may well laugh at fourteen years past 's idea of futuristic data processing clerks , some aspects of this film are surprisingly perfectly in keeping with the way we think of `` virtual reality '' today . As cyberpunk films go , this may not be a staple of the genre , but it 's definitely recommended viewing . The special effects are very primitive , placing this production in the realm of low-to-medium-budget television . The music is completely electronic-synthesized , which fits the low budget but is n't really out of keeping with the genre . However , the writing quite makes up for it . There are some very funny moments , and quite a few little in-jokes that one needs to have seen `` Casablanca '' to appreciate properly .\",\n",
       " \"People who enjoy science fiction are often faced with unpleasant surprises due to the improper labelling of novels , stories , comic books or movies . Often science fiction aficionados find material , previously labelled as science fiction , to be pure fantasy or supernatural horror , or rather simple techno-thriller . In such cases , mistakes are understandable-genre boundaries are never clearly marked . But , I believe there are really few cases when a movie labelled as science fiction actually happens to be straight historical epic . Such thing occurred in former Yugoslavia some fifteen years ago , when national distributors gave such treatment to THE RIGHT STUFF , 1983 film directed by Philip Kaufman . The mistake of the distributors could be explained with the fact that the official poster of the film features men in space suits . But THE RIGHT STUFF film is n't even fiction . It was based on the non-fiction book by Tom Wolfe , covering the early years of American space program . The plot of the film begins in 1947 when few people heard of Edwards Air Force Base , major test site for experimental planes . The major aim of test flights is to determine ability of manned aircraft to reachMach speed and thus break the sound barrier . Many pilots tried to achieve that goal and many paid with their lives for such bravado . But one quiet pilot , Chuck Eager -LRB- played by Sam Shaped -RRB- succeeds and thus gives example for whole new generation of test pilots , determined to enter history books by breaking new speed records . Ten years later , Soviets have launched `` Sputnik '' marking the beginning of the Space Age . In order to regain national prestige , US government decides to be the first to send man into space . Best Air Force , Navy and Marine pilots are recruited into program , but not Yeager , because he lacks college education and desired all-American image . In one of critics ' polls THE RIGHT STUFF was named as one among topfilms made in 1980s . Such high position could be explained with the fact that Kaufman 's film looks quite atypical for its time . With more than three hours of length and epic scope it looked more suitable for 1950s and 1960s-age when Hollywood used to make films larger than life . But the real reason lies in the fact that it was made by truly remarkable and talented filmmaker . Philip Kaufman created reputation in 1970s by using all the opportunities of that Golden Age in order to create original , memorable movies . THE RIGHT STUFF was the last of them , swan song of an era when producers allowed directors to spend big bucks on unusual , risk-taking `` artsy '' projects . THE RIGHT STUFF is unusual because it lacks many standard elements of Hollywood film . The plot is almost non-existent and not very coherent ; the story , featuring many interesting incidents and anecdotes , shifts focus from the old generation of test pilots , embodied in Yeager , to new generation of the astronauts . The film also lacks conventional protagonist-Yeager -LRB- who also appears in small cameo -RRB- remains the true hero of the film , but equal time and exposure is also given to other astronauts and their wives , making this movie into ensemble piece . That gave opportunity for Kaufman to use multitude of great acting talents , until that specialised only for bit or character roles . Sam Shepard is great as Yeager , war hero whose greatest achievement-breech of the sound barrier-remained obscured in history books , probably due to his own modesty . On the surface , he lacks personality compared with his hyped and more fortunate astronaut colleagues , but Shepard gives texture to this character with subtle gestures and phrases . Shepard 's performance is followed with great acting by Ed Harris as clean-cut Marine -LRB- and future politician -RRB- John Glenn . Young Dennis Quaid is more than fine as arrogant fighter jock Gordo Cooper , and this arrogance is mirrored in his friend and most tragic figure of Virgil Grissom , superbly played by Fred Ward . Always reliable character actor Scott Glenn provides some comic relief as Navy aviator and -LRB- arguably -RRB- first American man in space Alan Shepard . Kaufman left room for female talents to excel too-Barbara Hershey , Pamela Reed , Veronica Cartwright and Mary Jo Deschanel are great as pilots ' wives . Royal Dano is also impressive as menacing figure of Preacher , but the most memorable performances belong to Donald Moffat as Vice-President Lyndon B. Johnson and Jane Dornacker as Nurse Murch . Great acting talent assembled for this film was mirrored with Kaufman 's superb direction . Most notable of all is the methods Kaufman uses in order to suggest the passage of time . The beginning of the film shows test pilots living in the middle of desert , as virtual unknowns , far away from strict rules and discipline . Everything seems natural-Yeager can indulge himself in horse riding just few yards away from the fastest and most precious aircraft in the world . In that setting , it 's quite normal for important technical problems to be solved with simple chainsaw and for the test pilots not to report their ribs being broken before most important flights . But the times are changing ; WW2 alliance with USSR is replaced with Cold War , and `` natural '' pilots like Yeager must be replaced with more disciplined , conventional pilots . Their entire lives become focus of media frenzy , and their job is subjected to strict rules , meticulous plans and they must fight the bureaucrats , publicity-seeking politicians and uncaring scientists -LRB- like former Nazi rocket expert Werner von Braun , played by Scott Beach -RRB- only to preserve their most basic human dignity . This contrast is underlined with the beautifully edited sequence-while Yeager conducts his final and most spectacular test flight in absolute obscurity , `` Mercury '' astronauts receive fame and fortune , although some of them even before going in the space . Those contrasts and similar effects are achieved with Kaufman 's superb use of poetic movie language . Editing is great , and photography by Caleb Deschanel provides many memorable scenes like the funeral in the desert or astronauts in their suits walking in slow motion -LRB- the same image would be copied in many latter films -RRB- . Although Kaufman enjoyed support of NASA and American military , which provided authentic locations and period equipment , he still had to use special effects in order to simulate space flights . Those effects are excellent and they can still fool the audience accustomed to CGI and real footage of Earth from outer space . Another fine contribution of this film is `` Oscar '' - awarded musical score by Bill Conti ; I still tremble from excitement every time I hear it . It is accompanied with the use of Holst and Debussy . Some of the songs used in the background also provide authentic atmosphere of the historical period . This film is great , and its cult status is well deserved , but there are some minor flaws . Some of the `` Mercury '' astronauts are n't fleshed out enough -LRB- although being played by fine actors , like Lance Henriksen -RRB- . Film also lacks proper closure . On the other hand , most logical conclusion of the film-landing on the Moon-would require this film to be more than six hours long . Also , some critics were prone to attack this film as too Amerocentric and hard on Russians , who were portrayed as evil monsters , just in line with most virulent Cold War rhetoric of Reagan 's America . In some of contemporary interviews , Kaufman defended that approach by claiming that he wanted to make film as authentic as possible , and in order to do that , he portrayed Russians not as they were in real life , but as they were perceived by Americans in early 1960s . Time has passed ; now we do n't see astronauts as heroes . In this age of widespread satellite communications and routine space missions , those men and women in space suits are seen as mere maintenance workers . Few young boys want to be astronauts when they grow up . But this film , sentimental reminder of the times `` when future began '' , perhaps could encourage at least some of them to follow `` Mercury '' astronauts ' footsteps seek new frontiers in the sky . And even if they decide to stay on Earth , they could still appreciate THE RIGHT STUFF as an extraordinary piece of cinema . Filmske recenzije na hrvatskom/Movie Reviews in Croatian -LSB- 1 -RSB- http://film.purger.com\",\n",
       " \"With three pre-to mid-teen children and an aging father-in-law to care for -- cooking and cleaning and laundry , drop-offs at Little League practice and pick-ups from ballet practice -- Margaret Hall 's life is rife with complications . And with her naval officer husband stationed somewhere in the North Atlantic , virtually impossible to reach by telephone , Margaret leads the crazed life of a single parent . But Margaret 's hectic world is about to get a lot more complicated . Her teenage son Beau , a talented trumpet player with strong prospects of being accepted into Wesleyan University 's music program , has fallen in with the wrong crowd . His mother drives from their idyllic , lakeside community of Tahoe City , California to the sprawling urban metropolis of Reno , Nevada , with its imposing concrete superstructures and seedy neon-lit nightclubs , to confront the 30-something man who has befriended Beau . `` Stay away from my son '' Margaret warns Darby Reese . Her words , however , appear to fall on deaf ears as Reese turns up drunk at the family homestead later that evening , urging Beau to join him in the boathouse . There are words and advances and some pushing and shoving and Beau runs back into the house , passed his startled mother , as the crack of a wooden railing giving way breaks the cold blue silence and an intoxicated Reese tumbles out of sight . The next day , on her morning walk , Margaret discovers Reese 's lifeless body lying crumpled on the shoreline , a boat anchor impaled in his chest . With her maternal instincts working overtime , Margaret quickly ferries the body out into the lake , weighs it down , and dumps it overboard . But Margaret 's life is about to get a lot more complicated . Soon after the body is discovered , snagged on a local fisherman 's line , Margaret is paid a visit by an attractive-seeming blackmailer in a red Nova . Alek Spera threatens to hand over compromising videotape of Beau to the police unless Margaret comes up with $ 50,000 by o'clock the next day . But Margaret 's life is about to get a lot more complicated , for Alek turns out to be something she never expected . Based on Elisabeth Sanxay Holding 's novel `` The Blank Wall , '' `` The Deep End '' is a well-crafted thriller written and directed by Scott McGehee and David Siegel -LRB- `` Suture '' -RRB- . It makes the most of a talented but not particularly well-known cast -- Goran Visnjic plays Alek with a suave likeability , Jonathan Tucker shines as the conflicted Beau , Peter Donat is amusing as grandfather Hall , and Josh Lucas has an equally small but effective role as the hapless Darby Reese . The film is also lovingly photographed by Giles Nuttgens and features an evocative score , courtesy Peter Nashel . But it owes everything to British actress Tilda Swinton . Swinton , whose pale-faced ethereal beauty has graced many of Derek Jarman 's films -LRB- `` Caravaggio , '' `` Edward II , '' `` The Last of England '' -RRB- , plays Margaret Hall in `` The Deep End '' and , like Charlotte Rampling in this year 's `` Under the Sand , '' turns in a commanding and accomplished performance . Margaret is a devoted mother who is willing to risk everything to protect the ones she loves , and Swinton captures every frustration , every fear , every subtle examination and every fervent realization and every nervous oscillation of her being . The role calls for an extremely wide range of emotions none the least of which is simply playing a mother beset with a multitude of domestic responsibilities . Many can relate to that , of course ; it 's the murder cover-up and the blackmail and the fear of losing one 's son that Swinton so gracefully , so graciously , makes resonate with the truest of colors . The end is deep all right , and there is n't a single shallow moment in Tilda Swinton 's canon . Got beef ? Visit `` La Movie Boeuf '' online at -LSB- 1 -RSB- http://members.dca.net/dnb\",\n",
       " \"A miracle of filmmaking , `` Some Like It Hot '' is a brilliant film , and maybe the foremost example of slapstick comedy brought to screen with clever sight gags and plot twists . It is the pinnacle of writer-director Billy Wilder 's career , a stunning feat considering the vast catalogue of films he had helped make . Jerry -LRB- Lemmon -RRB- and Joe -LRB- Curtis -RRB- are two stage musicians who go from gig to gig , trying to earn enough money to feed themselves . One night , as they 're playing at a banned Prohibition speakeasy , the place is raided . As it turns out , the owner , Spats Columbo -LRB- George Raft -RRB- was ratted out by Toothpick Charlie -LRB- George E. Stone -RRB- . Several weeks later , on Valentine 's Day , Jerry and Joe go to a garage to pick up a car and end up witnessing a gangland murder of Charlie by Columbo in a parking garage . Eager to escape , the duo are forced to take a job in Florida with all expenses paid . The only catch . . its a girls band . So Josephine -LRB- Curtis -RRB- and Daphne -LRB- Lemmon -RRB- , make their way onto the train and go to Florida . On the way there , they meet Sugar Kane -LRB- Monroe -RRB- , a bombshell singer who is looking for love . Jerry and Joe immediately fall for the singer , but there 's two problems : 1 -RRB- they 're in drag , and 2 -RRB- millionaire Osgood Fielding -LRB- Joe E. Brown -RRB- falls madly in love with Daphne . What follows in pure hysteria , still complicated further by the arrival of Spats Columbo to Florida for the `` Italian Opera Lovers Festival '' . Tony Curtis is hysterical as Joe/Josephine , especially in his preposterous attempts to woo Sugar . Marilyn Monroe , in a wonderfully comic performance , is Sugar , providing incredible timing and sex appeal , along with true sincerity . The scenes , however , are all stolen by either Brown or Lemmon . Lemmon is hysterical as Daphne . Cast as the less rational one , Lemmon 's performance is ridiculously crazy , it is disorder in the style all Billy Wilder 's . Brown is particularly hilarious as Osgood , as we are treated to the finest kind of comedic irony . He manages to use Lemmon 's ingenious performance as a springboard for an even loonier performance as a completely eccentric millionaire . Every set-piece is flawless , as Wilder brilliantly changes settings constantly , and uses every comic trick in the book to make his picture . Wilder 's script is stunning , as he carefully combines gangsters , cross-dressing , romance , sex , music , gender roles , and social taboos in a riotous blend of wit and oddball craziness . Wilder manages to create scenes of utter hysteria , so pitch-perfect that the audience is dying of laughter with the last comic piece , the final line of this absolutely incredible film . Wilder 's is dead wrong when he says nobody 's perfect : Billy Wilder is , especially when he makes something this disastrously funny . Nobody 's perfect but Billy Wilder .\",\n",
       " \"Stendhal 's Syndrome : a condition where , in the presence of art , a person becomes engulfed in a painting and hallucinates and may afterwards suffer symptoms such as depression , suicidal behaviour and personality disorder . Grim stuff , to be sure , but the subject of a remarkable film from Italy 's master of the horror thriller Dario Argento . Boasting an unforgettable soundtrack from the grandfather of film music Ennio Morricone , THE STENDHAL SYNDROME is a quite magnificent return to form for Argento . It follows his disappointing American debut TRAUMA -LRB- 1992 -RRB- , the patchy OPERA -LRB- 1987 -RRB- and several mediocre films he produced for young Italian director Michele Soavi in the late 1980 's . Based on the novel by Graziella Magherini , the film stars Argento 's daughter Asia as young Roman police inspector Anna Manni in pursuit of a brutal rapist-killer . Visiting Florence to follow up several leads , she is lured by the killer Alfredo -LRB- Thomas Kretschmann -RRB- to an art gallery , a favourite haunt where he hopes to identify exactly who is on his tail . At the gallery Anna is overwhelmed by a painting and faints . Posing as a bystander , Alfredo briefly comes to her aid and having now identified his pursuer , a strange game of cat and mouse begins . A gripping story evolves , and a coherent one , too , which may surprise those familiar with Argento 's often lumpy narratives . THE STENDHAL SYNDROME is not a simple cop-hunting-killer scenario . It is a disturbing and often compelling study of the central character 's psychological disintegration . The script explores its psycho-sexual themes with intelligence and candour , perhaps too much so for more sensitive viewers . But as dark as its themes are , THE STENDHAL SYNDROME emerges as one of the most artful and effective European thrillers of the last ten years . Argento is once again working in his native Italy , and he fully exploits the opportunities to use art and architecture for both symbolic statements and as departure points for several brilliant hallucinogenic sequences . Effects whiz Sergio Stivaletti serves his director well here , and the cinematography by Giuseppe Rotunno is consistently excellent . The film 's openingminutes segues between hallucination , flashback and real-time with tremendous style . Proof that , at his most inspired , Argento remains one of the world 's most exhilarating filmmakers . The cast is generally good , though marred at times by dubbing into English that renders speech all but emotionless . Asia Argento 's performance is by turns risky , awkward and fascinating . It 's a difficult role , and given her relative inexperience on screen she deserves applause for her efforts . Thomas Kretschmann is chillingly effective as Alfredo , and Marco Leonardi -LRB- of CINEMA PARADISO , and possibly the most gorgeous looking man in Italy -RRB- does okay as Anna 's work colleague and increasingly confused love interest . But perhaps THE STENDHAL SYNDROME 'S single most striking element is Ennio Morricone 's soundtrack . Active since the 1960 's , Morricone has scored over 100 films in his career and this must rate as one of his finest efforts . It 's mostly a variation on the one theme : a slow circular melody for strings and wordless female vocal possessed with an extraordinary , haunting beauty that lingers long afterwards . It 's been three decades since Argento and Morricone worked together . This is a long welcome reunion . If the film has a fault , it is that the last half hour drags a little and the film does n't quite reach a completely satisfying climax . But by the closing scenes , THE STENDHAL SYNDROME has already offered us enough to qualify as one of the very best films of Dario Argento 's career . * NOTE : See the uncut print from Japanese laserdisc if you can . Dubs of this version are available from various video dealers on the World Wide Web .\"]"
      ]
     },
     "execution_count": 21,
     "metadata": {},
     "output_type": "execute_result"
    }
   ],
   "source": [
    "[' '.join(review) for review in reviews[:5]]"
   ]
  },
  {
   "cell_type": "code",
   "execution_count": null,
   "id": "9bca1f7e",
   "metadata": {},
   "outputs": [],
   "source": []
  }
 ],
 "metadata": {
  "kernelspec": {
   "display_name": "Python 3",
   "language": "python",
   "name": "python3"
  },
  "language_info": {
   "codemirror_mode": {
    "name": "ipython",
    "version": 3
   },
   "file_extension": ".py",
   "mimetype": "text/x-python",
   "name": "python",
   "nbconvert_exporter": "python",
   "pygments_lexer": "ipython3",
   "version": "3.8.8"
  }
 },
 "nbformat": 4,
 "nbformat_minor": 5
}
